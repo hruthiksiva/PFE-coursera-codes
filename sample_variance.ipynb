{
  "nbformat": 4,
  "nbformat_minor": 0,
  "metadata": {
    "colab": {
      "name": "Untitled4.ipynb",
      "provenance": [],
      "authorship_tag": "ABX9TyOcoGvdlowcEHcR1yfb7vF4",
      "include_colab_link": true
    },
    "kernelspec": {
      "name": "python3",
      "display_name": "Python 3"
    }
  },
  "cells": [
    {
      "cell_type": "markdown",
      "metadata": {
        "id": "view-in-github",
        "colab_type": "text"
      },
      "source": [
        "<a href=\"https://colab.research.google.com/github/hruthiksiva/PFE-coursera-codes/blob/main/sample_variance.ipynb\" target=\"_parent\"><img src=\"https://colab.research.google.com/assets/colab-badge.svg\" alt=\"Open In Colab\"/></a>"
      ]
    },
    {
      "cell_type": "code",
      "metadata": {
        "id": "OXD3BxUtxUxt"
      },
      "source": [
        "def sample_variance(a,mean):\n",
        "  variance=0\n",
        "  for i in range(10):\n",
        "    variance = variance + pow((a[i]-mean),2)\n",
        "  print(variance)\n",
        "  print(variance/9)"
      ],
      "execution_count": 30,
      "outputs": []
    },
    {
      "cell_type": "code",
      "metadata": {
        "colab": {
          "base_uri": "https://localhost:8080/"
        },
        "id": "wg7wDtfIxfPK",
        "outputId": "e2ddaee2-d42a-4cd6-b5a3-2e96c72248e1"
      },
      "source": [
        "mean=0\n",
        "a=[23,21,28,25,29,32,45,22,28,26]\n",
        "for i in range(10):\n",
        "  mean=mean+(a[i]/10)\n",
        "print(\"Mean : \"+str(mean))\n",
        "sample_variance(a,mean)"
      ],
      "execution_count": 31,
      "outputs": [
        {
          "output_type": "stream",
          "text": [
            "Mean : 27.900000000000002\n",
            "428.8999999999999\n",
            "47.655555555555544\n"
          ],
          "name": "stdout"
        }
      ]
    },
    {
      "cell_type": "code",
      "metadata": {
        "id": "N4Hb2VUrx5-e"
      },
      "source": [
        ""
      ],
      "execution_count": null,
      "outputs": []
    }
  ]
}