{
  "nbformat": 4,
  "nbformat_minor": 0,
  "metadata": {
    "colab": {
      "name": "Untitled5.ipynb",
      "provenance": [],
      "authorship_tag": "ABX9TyP2BuvlbbrryGgZQPmvWATK",
      "include_colab_link": true
    },
    "kernelspec": {
      "name": "python3",
      "display_name": "Python 3"
    }
  },
  "cells": [
    {
      "cell_type": "markdown",
      "metadata": {
        "id": "view-in-github",
        "colab_type": "text"
      },
      "source": [
        "<a href=\"https://colab.research.google.com/github/hruthiksiva/Python-Code-Practice/blob/main/python%20test.ipynb\" target=\"_parent\"><img src=\"https://colab.research.google.com/assets/colab-badge.svg\" alt=\"Open In Colab\"/></a>"
      ]
    },
    {
      "cell_type": "code",
      "metadata": {
        "colab": {
          "base_uri": "https://localhost:8080/"
        },
        "id": "oA5Kt3BPfxax",
        "outputId": "2582ec63-8cb9-4356-e998-0f1565b20cea"
      },
      "source": [
        "class Book:\n",
        "  def __init__(self,name):\n",
        "    self.name=name\n",
        "  def getBookType(self):\n",
        "    pass\n",
        "class TextBook(Book):\n",
        "  def __init__(self,price,name):\n",
        "    self.price=price\n",
        "    super().__init__(name)\n",
        "  def getBookType(self):\n",
        "    print(\"Text\")\n",
        "class NoteBook(Book):\n",
        "  def __init__(self,price,name):\n",
        "    self.price=price\n",
        "    super().__init__(name)\n",
        "  def getBookType(self):\n",
        "    print(\"Note\")\n",
        "X=TextBook(100,'Machine Learning')\n",
        "X.getBookType()\n",
        "Y=NoteBook(300,'ML Notes')\n",
        "Y.getBookType()"
      ],
      "execution_count": 3,
      "outputs": [
        {
          "output_type": "stream",
          "text": [
            "Text\n",
            "Note\n"
          ],
          "name": "stdout"
        }
      ]
    },
    {
      "cell_type": "code",
      "metadata": {
        "id": "55CH6Sr8jOPP"
      },
      "source": [
        ""
      ],
      "execution_count": null,
      "outputs": []
    }
  ]
}