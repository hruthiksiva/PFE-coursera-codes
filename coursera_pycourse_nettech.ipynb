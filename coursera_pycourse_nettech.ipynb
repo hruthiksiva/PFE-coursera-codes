{
  "nbformat": 4,
  "nbformat_minor": 0,
  "metadata": {
    "colab": {
      "name": "coursera_pycourse - nettech.ipynb",
      "provenance": [],
      "collapsed_sections": [],
      "authorship_tag": "ABX9TyMWgUTW8/iwdh5jNkQaK6zH",
      "include_colab_link": true
    },
    "kernelspec": {
      "name": "python3",
      "display_name": "Python 3"
    }
  },
  "cells": [
    {
      "cell_type": "markdown",
      "metadata": {
        "id": "view-in-github",
        "colab_type": "text"
      },
      "source": [
        "<a href=\"https://colab.research.google.com/github/hruthiksiva/PFE-coursera-codes/blob/main/coursera_pycourse_nettech.ipynb\" target=\"_parent\"><img src=\"https://colab.research.google.com/assets/colab-badge.svg\" alt=\"Open In Colab\"/></a>"
      ]
    },
    {
      "cell_type": "markdown",
      "metadata": {
        "id": "N7LMVRwshHti"
      },
      "source": [
        "# Basic Example"
      ]
    },
    {
      "cell_type": "code",
      "metadata": {
        "id": "cyoPxlLHd-vE"
      },
      "source": [
        "import socket\n",
        "mysock= socket.socket(socket.AF_INET,socket.SOCK_STREAM)\n",
        "mysock.connect(('data.pr4.org',80))"
      ],
      "execution_count": 4,
      "outputs": []
    },
    {
      "cell_type": "markdown",
      "metadata": {
        "id": "gHjX93QghMya"
      },
      "source": [
        "# HTTP"
      ]
    },
    {
      "cell_type": "code",
      "metadata": {
        "id": "DzHgcDuKeQjn"
      },
      "source": [
        ""
      ],
      "execution_count": null,
      "outputs": []
    }
  ]
}