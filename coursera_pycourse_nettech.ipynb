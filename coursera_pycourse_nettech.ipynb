{
  "nbformat": 4,
  "nbformat_minor": 0,
  "metadata": {
    "colab": {
      "name": "coursera_pycourse - nettech.ipynb",
      "provenance": [],
      "collapsed_sections": [],
      "authorship_tag": "ABX9TyMRfoSFumb16o3vVCXVOfIV",
      "include_colab_link": true
    },
    "kernelspec": {
      "name": "python3",
      "display_name": "Python 3"
    }
  },
  "cells": [
    {
      "cell_type": "markdown",
      "metadata": {
        "id": "view-in-github",
        "colab_type": "text"
      },
      "source": [
        "<a href=\"https://colab.research.google.com/github/hruthiksiva/PFE-coursera-codes/blob/main/coursera_pycourse_nettech.ipynb\" target=\"_parent\"><img src=\"https://colab.research.google.com/assets/colab-badge.svg\" alt=\"Open In Colab\"/></a>"
      ]
    },
    {
      "cell_type": "markdown",
      "metadata": {
        "id": "N7LMVRwshHti"
      },
      "source": [
        "# Basic Example"
      ]
    },
    {
      "cell_type": "code",
      "metadata": {
        "id": "cyoPxlLHd-vE"
      },
      "source": [
        "import socket\n",
        "mysock= socket.socket(socket.AF_INET,socket.SOCK_STREAM)\n",
        "mysock.connect(('data.pr4e.org',80))"
      ],
      "execution_count": null,
      "outputs": []
    },
    {
      "cell_type": "markdown",
      "metadata": {
        "id": "gHjX93QghMya"
      },
      "source": [
        "# HTTP Request in Python"
      ]
    },
    {
      "cell_type": "code",
      "metadata": {
        "id": "DzHgcDuKeQjn",
        "outputId": "0f9e39a3-889e-442f-8e3e-c88ab1e01d4a",
        "colab": {
          "base_uri": "https://localhost:8080/"
        }
      },
      "source": [
        "import socket\n",
        "mysock= socket.socket(socket.AF_INET,socket.SOCK_STREAM)\n",
        "mysock.connect(('data.pr4e.org',80))\n",
        "cmd='GET http://data.pr4e.org/remeo.txt HTTP/1.0\\r\\n\\r\\n'.encode()\n",
        "mysock.send(cmd)\n",
        "\n",
        "while True:\n",
        "  data=mysock.recv(512)\n",
        "  if (len(data) < 1):\n",
        "    break\n",
        "  print(data.decode())\n",
        "mysock.close\n"
      ],
      "execution_count": 5,
      "outputs": [
        {
          "output_type": "stream",
          "text": [
            "HTTP/1.1 404 Not Found\r\n",
            "Date: Tue, 03 Nov 2020 10:59:40 GMT\r\n",
            "Server: Apache/2.4.18 (Ubuntu)\r\n",
            "Content-Length: 286\r\n",
            "Connection: close\r\n",
            "Content-Type: text/html; charset=iso-8859-1\r\n",
            "\r\n",
            "<!DOCTYPE HTML PUBLIC \"-//IETF//DTD HTML 2.0//EN\">\n",
            "<html><head>\n",
            "<title>404 Not Found</title>\n",
            "</head><body>\n",
            "<h1>Not Found</h1>\n",
            "<p>The requested URL /remeo.txt was not found on this server.</p>\n",
            "<hr>\n",
            "<address>Apache/2.4.18 (Ubuntu) Server at data.pr4e.org Port 80</address>\n",
            "</body></html>\n",
            "\n"
          ],
          "name": "stdout"
        },
        {
          "output_type": "execute_result",
          "data": {
            "text/plain": [
              "<bound method socket.close of <socket.socket fd=54, family=AddressFamily.AF_INET, type=SocketKind.SOCK_STREAM, proto=0, laddr=('172.28.0.2', 45278), raddr=('192.241.136.170', 80)>>"
            ]
          },
          "metadata": {
            "tags": []
          },
          "execution_count": 5
        }
      ]
    }
  ]
}